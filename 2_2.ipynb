{
  "nbformat": 4,
  "nbformat_minor": 0,
  "metadata": {
    "colab": {
      "name": "2.2.ipynb",
      "provenance": [],
      "collapsed_sections": [],
      "authorship_tag": "ABX9TyOUTNLpM31Zx/JoGmfASSd/",
      "include_colab_link": true
    },
    "kernelspec": {
      "display_name": "Python 3",
      "name": "python3"
    },
    "language_info": {
      "name": "python"
    }
  },
  "cells": [
    {
      "cell_type": "markdown",
      "metadata": {
        "id": "view-in-github",
        "colab_type": "text"
      },
      "source": [
        "<a href=\"https://colab.research.google.com/github/itallocastro/paa/blob/main/2_2.ipynb\" target=\"_parent\"><img src=\"https://colab.research.google.com/assets/colab-badge.svg\" alt=\"Open In Colab\"/></a>"
      ]
    },
    {
      "cell_type": "markdown",
      "metadata": {
        "id": "p-WW2KW4ynPr"
      },
      "source": [
        "# Questão 2.2"
      ]
    },
    {
      "cell_type": "code",
      "metadata": {
        "id": "8e6hZJIScAvV"
      },
      "source": [
        "import time"
      ],
      "execution_count": 1,
      "outputs": []
    },
    {
      "cell_type": "code",
      "metadata": {
        "id": "-7N4UGLEaRma"
      },
      "source": [
        "def recursive_fibo(n):\n",
        "  if(n <= 1):\n",
        "      return 1\n",
        "  return recursive_fibo(n-1) + recursive_fibo(n-2)"
      ],
      "execution_count": 2,
      "outputs": []
    },
    {
      "cell_type": "code",
      "metadata": {
        "id": "4NLq_wIZiWY8"
      },
      "source": [
        "def iterative_fibo(n):\n",
        "  a = 0\n",
        "  b = 1\n",
        "  for i in range(0,n):\n",
        "    f = a + b\n",
        "    a = b\n",
        "    b = f\n",
        "  return b"
      ],
      "execution_count": 3,
      "outputs": []
    },
    {
      "cell_type": "code",
      "metadata": {
        "colab": {
          "base_uri": "https://localhost:8080/"
        },
        "id": "LkdAF4ovd6sW",
        "outputId": "a596ad9a-f506-4e38-80a1-72506dfc3242"
      },
      "source": [
        "time_recursive = []\n",
        "for i in range(0, 41):\n",
        "  start_time = time.clock()\n",
        "  recursive_fibo(i)\n",
        "  time_recursive.append(time.clock() - start_time)\n"
      ],
      "execution_count": 4,
      "outputs": [
        {
          "output_type": "stream",
          "text": [
            "/usr/local/lib/python3.7/dist-packages/ipykernel_launcher.py:3: DeprecationWarning: time.clock has been deprecated in Python 3.3 and will be removed from Python 3.8: use time.perf_counter or time.process_time instead\n",
            "  This is separate from the ipykernel package so we can avoid doing imports until\n",
            "/usr/local/lib/python3.7/dist-packages/ipykernel_launcher.py:5: DeprecationWarning: time.clock has been deprecated in Python 3.3 and will be removed from Python 3.8: use time.perf_counter or time.process_time instead\n",
            "  \"\"\"\n"
          ],
          "name": "stderr"
        }
      ]
    },
    {
      "cell_type": "code",
      "metadata": {
        "colab": {
          "base_uri": "https://localhost:8080/"
        },
        "id": "xsD4nBurnQrz",
        "outputId": "8265e00e-b583-41b6-958c-f374c94a626c"
      },
      "source": [
        "time_recursive"
      ],
      "execution_count": 5,
      "outputs": [
        {
          "output_type": "execute_result",
          "data": {
            "text/plain": [
              "[0.00043400000000004546,\n",
              " 5.999999999950489e-06,\n",
              " 5.000000000032756e-06,\n",
              " 5.000000000032756e-06,\n",
              " 5.999999999950489e-06,\n",
              " 7.000000000090267e-06,\n",
              " 1.6999999999933735e-05,\n",
              " 1.3000000000040757e-05,\n",
              " 1.8999999999991246e-05,\n",
              " 2.999999999997449e-05,\n",
              " 4.6999999999908226e-05,\n",
              " 8.999999999992347e-05,\n",
              " 0.00012300000000009526,\n",
              " 0.00020500000000001073,\n",
              " 0.00034800000000001496,\n",
              " 0.0005010000000000847,\n",
              " 0.0009079999999999089,\n",
              " 0.0007479999999999709,\n",
              " 0.0010930000000000106,\n",
              " 0.0017050000000000676,\n",
              " 0.0027690000000000214,\n",
              " 0.004479000000000122,\n",
              " 0.007245999999999864,\n",
              " 0.011788999999999827,\n",
              " 0.018990000000000062,\n",
              " 0.03221000000000007,\n",
              " 0.04984300000000008,\n",
              " 0.08299199999999973,\n",
              " 0.14097399999999993,\n",
              " 0.21256399999999998,\n",
              " 0.3517170000000003,\n",
              " 0.569436,\n",
              " 0.9292480000000003,\n",
              " 1.4921319999999998,\n",
              " 2.3866430000000003,\n",
              " 3.910846000000001,\n",
              " 6.318992,\n",
              " 10.199959,\n",
              " 16.546151,\n",
              " 26.743014000000002,\n",
              " 43.327444]"
            ]
          },
          "metadata": {
            "tags": []
          },
          "execution_count": 5
        }
      ]
    },
    {
      "cell_type": "code",
      "metadata": {
        "colab": {
          "base_uri": "https://localhost:8080/"
        },
        "id": "ktdfHwaznYJS",
        "outputId": "1fbe4afd-82d4-4796-c53a-9e9b4af57299"
      },
      "source": [
        "time_iterative = []\n",
        "for i in range(0, 43):\n",
        "  start_time = time.clock()\n",
        "  iterative_fibo(i)\n",
        "  time_iterative.append(time.clock() - start_time)"
      ],
      "execution_count": 6,
      "outputs": [
        {
          "output_type": "stream",
          "text": [
            "/usr/local/lib/python3.7/dist-packages/ipykernel_launcher.py:3: DeprecationWarning: time.clock has been deprecated in Python 3.3 and will be removed from Python 3.8: use time.perf_counter or time.process_time instead\n",
            "  This is separate from the ipykernel package so we can avoid doing imports until\n",
            "/usr/local/lib/python3.7/dist-packages/ipykernel_launcher.py:5: DeprecationWarning: time.clock has been deprecated in Python 3.3 and will be removed from Python 3.8: use time.perf_counter or time.process_time instead\n",
            "  \"\"\"\n"
          ],
          "name": "stderr"
        }
      ]
    },
    {
      "cell_type": "code",
      "metadata": {
        "colab": {
          "base_uri": "https://localhost:8080/"
        },
        "id": "B7y_GTmenjNH",
        "outputId": "14e665a5-3d43-46f3-a882-59cc5a1518e7"
      },
      "source": [
        "time_iterative"
      ],
      "execution_count": 7,
      "outputs": [
        {
          "output_type": "execute_result",
          "data": {
            "text/plain": [
              "[4.5999999997548e-05,\n",
              " 4.0000000041118255e-06,\n",
              " 8.999999991488039e-06,\n",
              " 2.999999992425728e-06,\n",
              " 2.999999992425728e-06,\n",
              " 3.000000006636583e-06,\n",
              " 1.9999999949504854e-06,\n",
              " 3.000000006636583e-06,\n",
              " 2.00000000916134e-06,\n",
              " 3.000000006636583e-06,\n",
              " 2.999999992425728e-06,\n",
              " 3.000000006636583e-06,\n",
              " 2.00000000916134e-06,\n",
              " 3.000000006636583e-06,\n",
              " 2.999999992425728e-06,\n",
              " 2.999999992425728e-06,\n",
              " 2.00000000916134e-06,\n",
              " 3.000000006636583e-06,\n",
              " 3.000000006636583e-06,\n",
              " 2.999999992425728e-06,\n",
              " 3.999999989900971e-06,\n",
              " 2.999999992425728e-06,\n",
              " 3.000000006636583e-06,\n",
              " 3.000000006636583e-06,\n",
              " 3.000000006636583e-06,\n",
              " 4.0000000041118255e-06,\n",
              " 4.0000000041118255e-06,\n",
              " 3.000000006636583e-06,\n",
              " 2.999999992425728e-06,\n",
              " 4.0000000041118255e-06,\n",
              " 3.999999989900971e-06,\n",
              " 2.999999992425728e-06,\n",
              " 3.999999989900971e-06,\n",
              " 3.999999989900971e-06,\n",
              " 5.000000001587068e-06,\n",
              " 4.0000000041118255e-06,\n",
              " 5.000000001587068e-06,\n",
              " 5.000000001587068e-06,\n",
              " 4.0000000041118255e-06,\n",
              " 4.0000000041118255e-06,\n",
              " 5.000000001587068e-06,\n",
              " 5.000000001587068e-06,\n",
              " 5.000000001587068e-06]"
            ]
          },
          "metadata": {
            "tags": []
          },
          "execution_count": 7
        }
      ]
    },
    {
      "cell_type": "code",
      "metadata": {
        "id": "YeUFMvmqraGY"
      },
      "source": [
        "import matplotlib.pyplot as plt\n",
        "import math"
      ],
      "execution_count": 8,
      "outputs": []
    },
    {
      "cell_type": "code",
      "metadata": {
        "colab": {
          "base_uri": "https://localhost:8080/",
          "height": 295
        },
        "id": "Jhs-j8odrdvz",
        "outputId": "177fa551-b254-4b28-bb7c-7c887095d6a3"
      },
      "source": [
        "plt.plot(range(0,41), time_recursive[0:41], label='Recursivo', color='#00bebe')\n",
        "plt.plot(range(0,41), time_iterative[0:41], label='Iterativo', color='red')\n",
        "plt.title('Tempo de execução do fibonacci iterativo vs recursivo')\n",
        "plt.xlabel('Número de Fibonacci')\n",
        "plt.ylabel('Tempo para execução em segundos')\n",
        "plt.legend()\n",
        "plt.show()"
      ],
      "execution_count": 9,
      "outputs": [
        {
          "output_type": "display_data",
          "data": {
            "image/png": "[encoded data removed]",
            "text/plain": [
              "<Figure size 432x288 with 1 Axes>"
            ]
          },
          "metadata": {
            "tags": [],
            "needs_background": "light"
          }
        }
      ]
    },
    {
      "cell_type": "markdown",
      "metadata": {
        "id": "qvz8Aprwyu3r"
      },
      "source": [
        "# Questão 2.3"
      ]
    },
    {
      "cell_type": "code",
      "metadata": {
        "id": "tibF2MFs-OqP"
      },
      "source": [
        "x = [1000,2000,3000,4000,5000,6000,7000,8000,9000,10000]\n",
        "Y = [11966, 24303, 39992, 53010, 67272, 78692, 91274, 113063, 129799, 140538]\n",
        "Y3 = []"
      ],
      "execution_count": 11,
      "outputs": []
    },
    {
      "cell_type": "code",
      "metadata": {
        "id": "FPYqKwTmACf2"
      },
      "source": [
        "for i in x:\n",
        "  Y3.append(i*math.log(i, 10)*4)"
      ],
      "execution_count": 12,
      "outputs": []
    },
    {
      "cell_type": "code",
      "metadata": {
        "colab": {
          "base_uri": "https://localhost:8080/",
          "height": 295
        },
        "id": "YS2WE56f-ymi",
        "outputId": "4c03d894-dbbb-4d4c-e2a9-ea66c6d4513f"
      },
      "source": [
        "plt.plot(x, Y, label='Valores da questão', color='#00bebe')\n",
        "plt.plot(x, Y3, label='4n*log(n)',color='red')\n",
        "plt.title('Questão 2.3')\n",
        "plt.xlabel('Size')\n",
        "plt.ylabel('Count')\n",
        "plt.legend()\n",
        "plt.show()"
      ],
      "execution_count": 13,
      "outputs": [
        {
          "output_type": "display_data",
          "data": {
            "image/png": "[encoded data removed]",
            "text/plain": [
              "<Figure size 432x288 with 1 Axes>"
            ]
          },
          "metadata": {
            "tags": [],
            "needs_background": "light"
          }
        }
      ]
    }
  ]
}