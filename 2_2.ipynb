{
  "nbformat": 4,
  "nbformat_minor": 0,
  "metadata": {
    "colab": {
      "name": "2.2.ipynb",
      "provenance": [],
      "collapsed_sections": [],
      "authorship_tag": "ABX9TyMDfQ9YrojS6kvPchm80T4O",
      "include_colab_link": true
    },
    "kernelspec": {
      "display_name": "Python 3",
      "name": "python3"
    },
    "language_info": {
      "name": "python"
    }
  },
  "cells": [
    {
      "cell_type": "markdown",
      "metadata": {
        "id": "view-in-github",
        "colab_type": "text"
      },
      "source": [
        "<a href=\"https://colab.research.google.com/github/itallocastro/paa/blob/main/2_2.ipynb\" target=\"_parent\"><img src=\"https://colab.research.google.com/assets/colab-badge.svg\" alt=\"Open In Colab\"/></a>"
      ]
    },
    {
      "cell_type": "markdown",
      "metadata": {
        "id": "p-WW2KW4ynPr"
      },
      "source": [
        "# Questão 2.2"
      ]
    },
    {
      "cell_type": "code",
      "metadata": {
        "id": "8e6hZJIScAvV"
      },
      "source": [
        "import time"
      ],
      "execution_count": null,
      "outputs": []
    },
    {
      "cell_type": "code",
      "metadata": {
        "colab": {
          "background_save": true
        },
        "id": "-7N4UGLEaRma"
      },
      "source": [
        "def recursive_fibo(n):\n",
        "  if(n <= 1):\n",
        "      return 1\n",
        "  return recursive_fibo(n-1) + recursive_fibo(n-2)"
      ],
      "execution_count": null,
      "outputs": []
    },
    {
      "cell_type": "code",
      "metadata": {
        "id": "4NLq_wIZiWY8"
      },
      "source": [
        "def iterative_fibo(n):\n",
        "  a = 0\n",
        "  b = 1\n",
        "  for i in range(0,n):\n",
        "    f = a + b\n",
        "    a = b\n",
        "    b = f\n",
        "  return b"
      ],
      "execution_count": null,
      "outputs": []
    },
    {
      "cell_type": "code",
      "metadata": {
        "colab": {
          "base_uri": "https://localhost:8080/"
        },
        "id": "LkdAF4ovd6sW",
        "outputId": "6212d968-16ff-4cfe-bc82-9074db4d7abf"
      },
      "source": [
        "time_recursive = []\n",
        "for i in range(0, 43):\n",
        "  start_time = time.clock()\n",
        "  recursive_fibo(i)\n",
        "  time_recursive.append(time.clock() - start_time)\n"
      ],
      "execution_count": null,
      "outputs": [
        {
          "output_type": "stream",
          "text": [
            "/usr/local/lib/python3.7/dist-packages/ipykernel_launcher.py:3: DeprecationWarning: time.clock has been deprecated in Python 3.3 and will be removed from Python 3.8: use time.perf_counter or time.process_time instead\n",
            "  This is separate from the ipykernel package so we can avoid doing imports until\n",
            "/usr/local/lib/python3.7/dist-packages/ipykernel_launcher.py:5: DeprecationWarning: time.clock has been deprecated in Python 3.3 and will be removed from Python 3.8: use time.perf_counter or time.process_time instead\n",
            "  \"\"\"\n"
          ],
          "name": "stderr"
        }
      ]
    },
    {
      "cell_type": "code",
      "metadata": {
        "colab": {
          "base_uri": "https://localhost:8080/"
        },
        "id": "xsD4nBurnQrz",
        "outputId": "23fb0ca7-287d-4159-9c4e-f9be979a7ae2"
      },
      "source": [
        "time_recursive"
      ],
      "execution_count": null,
      "outputs": [
        {
          "output_type": "execute_result",
          "data": {
            "text/plain": [
              "[4.400000000259752e-05,\n",
              " 3.999999989900971e-06,\n",
              " 3.999999989900971e-06,\n",
              " 4.9999999873762135e-06,\n",
              " 4.9999999873762135e-06,\n",
              " 7.000000039170118e-06,\n",
              " 9.999999974752427e-06,\n",
              " 1.1000000029071089e-05,\n",
              " 2.0000000006348273e-05,\n",
              " 3.700000002027082e-05,\n",
              " 4.5999999997548e-05,\n",
              " 6.999999999379725e-05,\n",
              " 0.00011800000004313915,\n",
              " 0.00020799999998644125,\n",
              " 0.0003310000000169566,\n",
              " 0.0005019999999831271,\n",
              " 0.0007010000000491345,\n",
              " 0.0007209999999986394,\n",
              " 0.0011390000000233158,\n",
              " 0.0018329999999764368,\n",
              " 0.0047890000000165855,\n",
              " 0.006960000000049149,\n",
              " 0.009399999999970987,\n",
              " 0.012273999999990792,\n",
              " 0.0206630000000132,\n",
              " 0.032144000000016604,\n",
              " 0.0548870000000079,\n",
              " 0.08660900000000993,\n",
              " 0.13963599999999587,\n",
              " 0.22345300000000634,\n",
              " 0.38948500000003605,\n",
              " 0.5944700000000012,\n",
              " 0.9649619999999572,\n",
              " 1.5603889999999865,\n",
              " 2.5152069999999753,\n",
              " 4.074951999999996,\n",
              " 6.577080000000024,\n",
              " 10.658179999999959,\n",
              " 17.21981599999998,\n",
              " 27.92832199999998,\n",
              " 45.06639799999999,\n",
              " 73.11837700000001,\n",
              " 118.27899500000001]"
            ]
          },
          "metadata": {
            "tags": []
          },
          "execution_count": 42
        }
      ]
    },
    {
      "cell_type": "code",
      "metadata": {
        "colab": {
          "base_uri": "https://localhost:8080/"
        },
        "id": "ktdfHwaznYJS",
        "outputId": "adc320e9-54dd-4cf6-f894-71baecc9bd7f"
      },
      "source": [
        "time_iterative = []\n",
        "for i in range(0, 43):\n",
        "  start_time = time.clock()\n",
        "  iterative_fibo(i)\n",
        "  time_iterative.append(time.clock() - start_time)"
      ],
      "execution_count": null,
      "outputs": [
        {
          "output_type": "stream",
          "text": [
            "/usr/local/lib/python3.7/dist-packages/ipykernel_launcher.py:3: DeprecationWarning: time.clock has been deprecated in Python 3.3 and will be removed from Python 3.8: use time.perf_counter or time.process_time instead\n",
            "  This is separate from the ipykernel package so we can avoid doing imports until\n",
            "/usr/local/lib/python3.7/dist-packages/ipykernel_launcher.py:5: DeprecationWarning: time.clock has been deprecated in Python 3.3 and will be removed from Python 3.8: use time.perf_counter or time.process_time instead\n",
            "  \"\"\"\n"
          ],
          "name": "stderr"
        }
      ]
    },
    {
      "cell_type": "code",
      "metadata": {
        "colab": {
          "base_uri": "https://localhost:8080/"
        },
        "id": "B7y_GTmenjNH",
        "outputId": "98b236fc-a235-4933-c514-163df469c397"
      },
      "source": [
        "time_iterative"
      ],
      "execution_count": null,
      "outputs": [
        {
          "output_type": "execute_result",
          "data": {
            "text/plain": [
              "[5.599999997230043e-05,\n",
              " 6.000000098538294e-06,\n",
              " 3.999999989900971e-06,\n",
              " 3.999999989900971e-06,\n",
              " 4.0000001035878086e-06,\n",
              " 3.999999989900971e-06,\n",
              " 1.9999999949504854e-06,\n",
              " 2.999999992425728e-06,\n",
              " 1.9999999949504854e-06,\n",
              " 1.9999999949504854e-06,\n",
              " 2.999999992425728e-06,\n",
              " 1.9999999949504854e-06,\n",
              " 2.999999992425728e-06,\n",
              " 3.000000106112566e-06,\n",
              " 2.999999992425728e-06,\n",
              " 2.999999992425728e-06,\n",
              " 2.999999992425728e-06,\n",
              " 2.999999992425728e-06,\n",
              " 2.999999992425728e-06,\n",
              " 3.999999989900971e-06,\n",
              " 2.999999992425728e-06,\n",
              " 3.999999989900971e-06,\n",
              " 4.0000001035878086e-06,\n",
              " 2.999999992425728e-06,\n",
              " 3.999999989900971e-06,\n",
              " 3.999999989900971e-06,\n",
              " 3.999999989900971e-06,\n",
              " 3.999999989900971e-06,\n",
              " 3.999999989900971e-06,\n",
              " 3.999999989900971e-06,\n",
              " 4.0000001035878086e-06,\n",
              " 3.999999989900971e-06,\n",
              " 3.999999989900971e-06,\n",
              " 3.999999989900971e-06,\n",
              " 3.999999989900971e-06,\n",
              " 3.999999989900971e-06,\n",
              " 3.999999989900971e-06,\n",
              " 5.000000101063051e-06,\n",
              " 4.9999999873762135e-06,\n",
              " 3.999999989900971e-06,\n",
              " 4.9999999873762135e-06,\n",
              " 3.999999989900971e-06,\n",
              " 4.9999999873762135e-06]"
            ]
          },
          "metadata": {
            "tags": []
          },
          "execution_count": 44
        }
      ]
    },
    {
      "cell_type": "code",
      "metadata": {
        "id": "YeUFMvmqraGY"
      },
      "source": [
        "import matplotlib.pyplot as plt\n",
        "import math"
      ],
      "execution_count": null,
      "outputs": []
    },
    {
      "cell_type": "code",
      "metadata": {
        "colab": {
          "base_uri": "https://localhost:8080/",
          "height": 295
        },
        "id": "Jhs-j8odrdvz",
        "outputId": "53abd152-1eb3-4700-808e-b5858f96d325"
      },
      "source": [
        "plt.plot(range(0,41), time_recursive[0:41], label='Recursivo', color='#00bebe')\n",
        "plt.plot(range(0,41), time_iterative[0:41], label='Iterativo', color='red')\n",
        "plt.title('Tempo de execução do fibonacci iterativo vs recursivo')\n",
        "plt.xlabel('Número de Fibonacci')\n",
        "plt.ylabel('Tempo para execução em segundos')\n",
        "plt.legend()\n",
        "plt.show()"
      ],
      "execution_count": null,
      "outputs": [
        {
          "output_type": "display_data",
          "data": {
            "image/png": "[encoded data removed]",
            "text/plain": [
              "<Figure size 432x288 with 1 Axes>"
            ]
          },
          "metadata": {
            "tags": [],
            "needs_background": "light"
          }
        }
      ]
    },
    {
      "cell_type": "markdown",
      "metadata": {
        "id": "qvz8Aprwyu3r"
      },
      "source": [
        "# Questão 2.3"
      ]
    },
    {
      "cell_type": "code",
      "metadata": {
        "id": "tibF2MFs-OqP"
      },
      "source": [
        "x = [1000,2000,3000,4000,5000,6000,7000,8000,9000,10000]\n",
        "Y = [11966, 24303, 39992, 53010, 67272, 78692, 91274, 113063, 129799, 140538]\n",
        "Y3 = []"
      ],
      "execution_count": null,
      "outputs": []
    },
    {
      "cell_type": "code",
      "metadata": {
        "id": "FPYqKwTmACf2"
      },
      "source": [
        "for i in x:\n",
        "  Y3.append(i*math.log(i, 10)*4)"
      ],
      "execution_count": null,
      "outputs": []
    },
    {
      "cell_type": "code",
      "metadata": {
        "colab": {
          "base_uri": "https://localhost:8080/",
          "height": 295
        },
        "id": "YS2WE56f-ymi",
        "outputId": "5c629cd5-1109-4027-8c63-f3162485f913"
      },
      "source": [
        "plt.plot(x, Y, label='Valores da questão', color='#00bebe')\n",
        "plt.plot(x, Y3, label='4n*log(n)',color='red')\n",
        "plt.title('Questão 2.3')\n",
        "plt.xlabel('Size')\n",
        "plt.ylabel('Count')\n",
        "plt.legend()\n",
        "plt.show()"
      ],
      "execution_count": null,
      "outputs": [
        {
          "output_type": "display_data",
          "data": {
            "image/png": "[encoded data removed]",
            "text/plain": [
              "<Figure size 432x288 with 1 Axes>"
            ]
          },
          "metadata": {
            "tags": [],
            "needs_background": "light"
          }
        }
      ]
    }
  ]
}